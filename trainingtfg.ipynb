{
  "nbformat": 4,
  "nbformat_minor": 0,
  "metadata": {
    "colab": {
      "provenance": [],
      "gpuType": "T4",
      "mount_file_id": "16czmiUAbzLYoS5bn6545b8cNj9ljjAY6",
      "authorship_tag": "ABX9TyNpbdA58jNObi6RT4zg+JKx",
      "include_colab_link": true
    },
    "kernelspec": {
      "name": "python3",
      "display_name": "Python 3"
    },
    "language_info": {
      "name": "python"
    },
    "accelerator": "GPU"
  },
  "cells": [
    {
      "cell_type": "markdown",
      "metadata": {
        "id": "view-in-github",
        "colab_type": "text"
      },
      "source": [
        "<a href=\"https://colab.research.google.com/github/Curro-Gonz/Airport-Signs/blob/main/trainingtfg.ipynb\" target=\"_parent\"><img src=\"https://colab.research.google.com/assets/colab-badge.svg\" alt=\"Open In Colab\"/></a>"
      ]
    },
    {
      "cell_type": "markdown",
      "source": [
        "# Entrenamiento de YOLOv8 para detectar y clasificar señales de aeropuerto"
      ],
      "metadata": {
        "id": "uT50C-HAfgTd"
      }
    },
    {
      "cell_type": "markdown",
      "source": [
        "Instalamos las dependencias necesarias"
      ],
      "metadata": {
        "id": "5j8tO9o6gXWS"
      }
    },
    {
      "cell_type": "code",
      "source": [
        "%%capture\n",
        "!pip install ultralytics==8.0.196\n",
        "!pip install roboflow"
      ],
      "metadata": {
        "id": "HTjpKHjtIate"
      },
      "execution_count": 1,
      "outputs": []
    },
    {
      "cell_type": "markdown",
      "source": [
        "Obtenemos el directorio en el que vamos a trabajar"
      ],
      "metadata": {
        "id": "COZznLOagbwo"
      }
    },
    {
      "cell_type": "code",
      "execution_count": 2,
      "metadata": {
        "id": "KBCJnSdTvToG",
        "colab": {
          "base_uri": "https://localhost:8080/"
        },
        "outputId": "51ab3c13-b19a-44a9-af2c-651b82d59719"
      },
      "outputs": [
        {
          "output_type": "stream",
          "name": "stdout",
          "text": [
            "/content\n"
          ]
        }
      ],
      "source": [
        "import os\n",
        "HOME = os.getcwd()\n",
        "print(HOME)"
      ]
    },
    {
      "cell_type": "markdown",
      "source": [
        "Importamos cv2\\_imshow que nos será útil para visualizar los resultados de las operaciones de procesamiento de imágenes."
      ],
      "metadata": {
        "id": "anzen4TSgg33"
      }
    },
    {
      "cell_type": "code",
      "source": [
        "from google.colab.patches import cv2_imshow"
      ],
      "metadata": {
        "id": "2XdpJKaTv1D_"
      },
      "execution_count": 3,
      "outputs": []
    },
    {
      "cell_type": "markdown",
      "source": [
        "Importamos ultralytics y YOLO para poder entrenar y predecir el modelo"
      ],
      "metadata": {
        "id": "5lmeJGWYgnbM"
      }
    },
    {
      "cell_type": "code",
      "source": [
        "from IPython import display\n",
        "display.clear_output()\n",
        "\n",
        "import ultralytics\n",
        "ultralytics.checks()\n",
        "\n",
        "from ultralytics import YOLO\n",
        "\n",
        "from IPython.display import display, Image"
      ],
      "metadata": {
        "colab": {
          "base_uri": "https://localhost:8080/"
        },
        "id": "EpOuqId5v3e7",
        "outputId": "d0704650-4c43-402b-8186-7a0e6697b5c7"
      },
      "execution_count": 4,
      "outputs": [
        {
          "output_type": "stream",
          "name": "stderr",
          "text": [
            "Ultralytics YOLOv8.0.196 🚀 Python-3.10.12 torch-2.3.0+cu121 CUDA:0 (Tesla T4, 15102MiB)\n",
            "Setup complete ✅ (2 CPUs, 12.7 GB RAM, 30.1/78.2 GB disk)\n"
          ]
        }
      ]
    },
    {
      "cell_type": "markdown",
      "source": [
        "Cargamos Drive en el colab para poder tener acceso a las carpetas de Drive para luego guardar los resultados"
      ],
      "metadata": {
        "id": "VFhRJN2UgqCz"
      }
    },
    {
      "cell_type": "code",
      "source": [
        "from google.colab import drive\n",
        "drive.mount('/content/drive')"
      ],
      "metadata": {
        "colab": {
          "base_uri": "https://localhost:8080/"
        },
        "id": "-_4ynBM_wbsO",
        "outputId": "393a71d4-ce63-4e3e-aa2a-ee6959371774"
      },
      "execution_count": 5,
      "outputs": [
        {
          "output_type": "stream",
          "name": "stdout",
          "text": [
            "Drive already mounted at /content/drive; to attempt to forcibly remount, call drive.mount(\"/content/drive\", force_remount=True).\n"
          ]
        }
      ]
    },
    {
      "cell_type": "markdown",
      "source": [
        "Cargamos el link de exportación del *dataset* de roboflow.\n",
        "\n",
        "Dado que la api\\_key es privada, se ha tomado la decisión de no compartirla ya que un mal uso de ella puede conllevar la modificación o pérdida del *dataset* sin que el propietario tenga conocimiento de ello. Esto supone que no se podrá descargar el *dataset*."
      ],
      "metadata": {
        "id": "rxDbC0dHgxXx"
      }
    },
    {
      "cell_type": "code",
      "source": [
        "%%capture\n",
        "%cd {HOME}\n",
        "\n",
        "from roboflow import Roboflow\n",
        "rf = Roboflow(api_key=\"AE8R6X7eoyovtmBkFMSl\")\n",
        "project = rf.workspace(\"curro-p77xe\").project(\"airport-signals\")\n",
        "version = project.version(4)\n",
        "dataset = version.download(\"yolov8\")\n"
      ],
      "metadata": {
        "id": "cf8fzSZ7wlha"
      },
      "execution_count": 7,
      "outputs": []
    },
    {
      "cell_type": "markdown",
      "source": [
        "Entrenamos nuestro modelo con 100 épocas"
      ],
      "metadata": {
        "id": "3MitHARQg5uB"
      }
    },
    {
      "cell_type": "code",
      "source": [
        "%%capture\n",
        "model = YOLO(\"yolov8n.pt\")\n",
        "results = model.train(data= os.path.join(\"/content/Airport-signals-4\", \"data.yaml\"), epochs = 100)"
      ],
      "metadata": {
        "id": "KPN9V4M4N9Ay"
      },
      "execution_count": null,
      "outputs": []
    },
    {
      "cell_type": "markdown",
      "source": [
        "Validamos el modelo con la carpeta de validación"
      ],
      "metadata": {
        "id": "EjDt_6Qfg9Ye"
      }
    },
    {
      "cell_type": "code",
      "source": [
        "%%capture\n",
        "!yolo task=detect mode=val model=\"/content/runs/detect/train/weights/best.pt\" data=\"/content/Airport-signals-4/data.yaml\""
      ],
      "metadata": {
        "id": "1d3YMHi9xD-A"
      },
      "execution_count": null,
      "outputs": []
    },
    {
      "cell_type": "markdown",
      "source": [
        "Utilizamos nuestro modelo ya entrenado para predecir nuevas imágenes"
      ],
      "metadata": {
        "id": "sk7apVuPg__o"
      }
    },
    {
      "cell_type": "code",
      "source": [
        "%%capture\n",
        "!yolo task=detect mode=predict model='/content/runs/detect/train/weights/best.pt' conf = 0.5 source='/content/Airport-signals-4/test/images'"
      ],
      "metadata": {
        "id": "7FKqm0rCe94P"
      },
      "execution_count": null,
      "outputs": []
    },
    {
      "cell_type": "markdown",
      "source": [
        "Guardamos los resultados en Drive"
      ],
      "metadata": {
        "id": "s_29kXKqhDVh"
      }
    },
    {
      "cell_type": "code",
      "source": [
        "import shutil\n",
        "# Ruta del directorio que quieres copiar\n",
        "source_dir = '/content/runs'\n",
        "# Ruta del directorio de destino en Google Drive\n",
        "dest_dir = '/content/drive/MyDrive/runs'\n",
        "\n",
        "# Copiar el directorio\n",
        "shutil.copytree(source_dir, dest_dir)"
      ],
      "metadata": {
        "colab": {
          "base_uri": "https://localhost:8080/",
          "height": 35
        },
        "id": "KpOJs8WrlQxl",
        "outputId": "fb98f0c3-7994-4351-dde7-374f088dc8b0"
      },
      "execution_count": null,
      "outputs": [
        {
          "output_type": "execute_result",
          "data": {
            "text/plain": [
              "'/content/drive/MyDrive/runs'"
            ],
            "application/vnd.google.colaboratory.intrinsic+json": {
              "type": "string"
            }
          },
          "metadata": {},
          "execution_count": 11
        }
      ]
    },
    {
      "cell_type": "markdown",
      "source": [
        "Desplegamos el modelo entrenado en Roboflow"
      ],
      "metadata": {
        "id": "Zuczq6YJhGCM"
      }
    },
    {
      "cell_type": "code",
      "source": [
        "%%capture\n",
        "version = project.version(4)\n",
        "version.deploy(\"yolov8\", \"/content/runs/detect/train/weights\", \"best.pt\")"
      ],
      "metadata": {
        "id": "PS2_qQWWeKme"
      },
      "execution_count": null,
      "outputs": []
    }
  ]
}